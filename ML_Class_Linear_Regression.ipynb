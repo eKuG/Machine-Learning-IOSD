{
  "nbformat": 4,
  "nbformat_minor": 0,
  "metadata": {
    "colab": {
      "name": "Copy of ML Class - Linear Regression.ipynb",
      "version": "0.3.2",
      "provenance": []
    },
    "kernelspec": {
      "display_name": "Python 3",
      "language": "python",
      "name": "python3"
    }
  },
  "cells": [
    {
      "metadata": {
        "id": "Pel2bQ4uFgFS",
        "colab_type": "text"
      },
      "cell_type": "markdown",
      "source": [
        "# Hi Guys! Welcome to Class\n",
        "<p>\n",
        "Today we'll learn about linear regression in machine learning.\n",
        "</p>\n",
        "<p>\n",
        "Simple linear regression is an approach for predicting a response using a single feature.\n",
        "</p>\n",
        "<p>\n",
        "It is assumed that the two variables are linearly related. Hence, we try to find a linear function that predicts the response value(y) as accurately as possible as a function of the feature or independent variable(x).\n",
        "</p>\n"
      ]
    },
    {
      "metadata": {
        "id": "GNVMeIf8FgFV",
        "colab_type": "text"
      },
      "cell_type": "markdown",
      "source": [
        "# Building Linear Regression Model from scratch using numpy\n",
        "<p>Now we'll build a linear regression model from scratch using numpy library and analyze the results</p>"
      ]
    },
    {
      "metadata": {
        "id": "NN8bUBioFgFY",
        "colab_type": "code",
        "colab": {}
      },
      "cell_type": "code",
      "source": [
        "import numpy as np\n",
        "import matplotlib.pyplot as plt"
      ],
      "execution_count": 0,
      "outputs": []
    },
    {
      "metadata": {
        "id": "-qsu1XbDFgFl",
        "colab_type": "code",
        "colab": {}
      },
      "cell_type": "code",
      "source": [
        "X = np.array([1,2,3,4,5,6,7,8,9,10])\n",
        "y = np.array([1, 3, 2, 5, 7, 8, 8, 9, 10, 12])"
      ],
      "execution_count": 0,
      "outputs": []
    },
    {
      "metadata": {
        "id": "amPlqoZCFgFv",
        "colab_type": "code",
        "colab": {
          "base_uri": "https://localhost:8080/",
          "height": 34
        },
        "outputId": "cfd84603-9ab3-4b6a-909d-bb6dc9ebd2c2"
      },
      "cell_type": "code",
      "source": [
        "X"
      ],
      "execution_count": 3,
      "outputs": [
        {
          "output_type": "execute_result",
          "data": {
            "text/plain": [
              "array([ 1,  2,  3,  4,  5,  6,  7,  8,  9, 10])"
            ]
          },
          "metadata": {
            "tags": []
          },
          "execution_count": 3
        }
      ]
    },
    {
      "metadata": {
        "id": "BvNkF3hyFgFz",
        "colab_type": "code",
        "colab": {
          "base_uri": "https://localhost:8080/",
          "height": 34
        },
        "outputId": "d6dcb98c-93d3-4c4c-b900-df9c4068a2e2"
      },
      "cell_type": "code",
      "source": [
        "y"
      ],
      "execution_count": 4,
      "outputs": [
        {
          "output_type": "execute_result",
          "data": {
            "text/plain": [
              "array([ 1,  3,  2,  5,  7,  8,  8,  9, 10, 12])"
            ]
          },
          "metadata": {
            "tags": []
          },
          "execution_count": 4
        }
      ]
    },
    {
      "metadata": {
        "id": "Ebdzra97FgF7",
        "colab_type": "code",
        "colab": {}
      },
      "cell_type": "code",
      "source": [
        "def plotData(x,y):\n",
        "    if(len(x)!=len(y)):\n",
        "        return\n",
        "    plt.figure(figsize=(8,6))\n",
        "    plt.scatter(x, y, color = \"b\", marker = \"o\", s = 30) \n",
        "    plt.axis('tight')\n",
        "    plt.xlabel('X')\n",
        "    plt.ylabel('y')\n",
        "    plt.show()"
      ],
      "execution_count": 0,
      "outputs": []
    },
    {
      "metadata": {
        "id": "mf_UHpjsFgGB",
        "colab_type": "code",
        "colab": {
          "base_uri": "https://localhost:8080/",
          "height": 388
        },
        "outputId": "a41bde00-cabb-423b-84e0-3b724d03f70e"
      },
      "cell_type": "code",
      "source": [
        "plotData(X,y)"
      ],
      "execution_count": 6,
      "outputs": [
        {
          "output_type": "display_data",
          "data": {
            "image/png": "[encoded data removed]",
            "text/plain": [
              "<matplotlib.figure.Figure at 0x7f8e6285c588>"
            ]
          },
          "metadata": {
            "tags": []
          }
        }
      ]
    },
    {
      "metadata": {
        "id": "rOzvx3E_FgGK",
        "colab_type": "text"
      },
      "cell_type": "markdown",
      "source": [
        "### Least Square Method\n",
        "\n",
        "Mathematical details here : https://www.mathsisfun.com/data/least-squares-regression.html"
      ]
    },
    {
      "metadata": {
        "id": "OC9i34YYFgGN",
        "colab_type": "code",
        "colab": {}
      },
      "cell_type": "code",
      "source": [
        "def estimate_coef(x, y):\n",
        "    # number of training examples\n",
        "    m = np.size(x)\n",
        "  \n",
        "    # mean of x and y vector\n",
        "    mean_x, mean_y = np.mean(x), np.mean(y)\n",
        "  \n",
        "    # calculating cross-deviation and deviation about x\n",
        "    SS_xy = np.sum(y*x) - m*mean_y*mean_x\n",
        "    SS_xx = np.sum(x*x) - m*mean_x*mean_x\n",
        "  \n",
        "    # calculating regression coefficients \n",
        "    a1 = SS_xy / SS_xx\n",
        "    a0 = mean_y - a1*mean_x\n",
        "  \n",
        "    return(a0, a1)\n",
        "\n",
        "def plotRegressionLine(x,y,coeff):\n",
        "    if(len(x)!=len(y)):\n",
        "        return\n",
        "    plt.figure(figsize=(8,6))\n",
        "    plt.scatter(x, y, color = \"b\", marker = \"o\", s = 30)\n",
        "    y_pred = coeff[0] + coeff[1]*x \n",
        "    # plotting the regression line \n",
        "    plt.plot(x, y_pred, color = \"g\") \n",
        "    plt.axis('tight')\n",
        "    plt.xlabel('X')\n",
        "    plt.ylabel('y')\n",
        "    plt.show()"
      ],
      "execution_count": 0,
      "outputs": []
    },
    {
      "metadata": {
        "id": "O60EY9trFgGW",
        "colab_type": "code",
        "colab": {
          "base_uri": "https://localhost:8080/",
          "height": 34
        },
        "outputId": "70c5f37c-c295-43d0-df5c-985ea24cb028"
      },
      "cell_type": "code",
      "source": [
        "coeff = estimate_coef(X, y)\n",
        "print(\"Estimated coefficients:- a0 :\",coeff[0],\"and a1 :\",coeff[1]) "
      ],
      "execution_count": 8,
      "outputs": [
        {
          "output_type": "stream",
          "text": [
            "Estimated coefficients:- a0 : 0.06666666666666643 and a1 : 1.1696969696969697\n"
          ],
          "name": "stdout"
        }
      ]
    },
    {
      "metadata": {
        "id": "Ukhv-l_8FgGs",
        "colab_type": "code",
        "colab": {
          "base_uri": "https://localhost:8080/",
          "height": 388
        },
        "outputId": "5c530639-2355-4ce2-9887-06b4001348ae"
      },
      "cell_type": "code",
      "source": [
        "plotRegressionLine(X, y, coeff)"
      ],
      "execution_count": 9,
      "outputs": [
        {
          "output_type": "display_data",
          "data": {
            "image/png": "[encoded data removed]",
            "text/plain": [
              "<matplotlib.figure.Figure at 0x7f8e5ffa1cf8>"
            ]
          },
          "metadata": {
            "tags": []
          }
        }
      ]
    },
    {
      "metadata": {
        "id": "U8ZZ7sd3FgGy",
        "colab_type": "text"
      },
      "cell_type": "markdown",
      "source": [
        "### Gradient Descent Method\n",
        "\n",
        "Mathematical Details Here: https://www.geeksforgeeks.org/gradient-descent-in-linear-regression/"
      ]
    },
    {
      "metadata": {
        "id": "zlwaWQNZFgG2",
        "colab_type": "code",
        "colab": {}
      },
      "cell_type": "code",
      "source": [
        "epochs = 1000\n",
        "learning_rate=0.0001"
      ],
      "execution_count": 0,
      "outputs": []
    },
    {
      "metadata": {
        "id": "FQOdl4vBFgHA",
        "colab_type": "code",
        "colab": {}
      },
      "cell_type": "code",
      "source": [
        "def linear_regression(X,y,epochs,learning_rate,a1=0,a0=0):\n",
        "    N = float(len(y))\n",
        "    for i in range(epochs):\n",
        "        y_current = (a1 * X) + a0\n",
        "        cost = sum([data**2 for data in (y-y_current)]) / 2*N\n",
        "        a1_gradient = -(1/N) * sum(X * (y - y_current))\n",
        "        a0_gradient = -(1/N) * sum(y - y_current)\n",
        "        a1 = a1 - (learning_rate * a1_gradient)\n",
        "        a0 = a0 - (learning_rate * a0_gradient)\n",
        "    return a0, a1, cost"
      ],
      "execution_count": 0,
      "outputs": []
    },
    {
      "metadata": {
        "id": "sEC88weLFgHD",
        "colab_type": "code",
        "colab": {}
      },
      "cell_type": "code",
      "source": [
        "a0, a1, cost = linear_regression(X, y,epochs,learning_rate)"
      ],
      "execution_count": 0,
      "outputs": []
    },
    {
      "metadata": {
        "id": "7vjatc0oFgHH",
        "colab_type": "code",
        "colab": {
          "base_uri": "https://localhost:8080/",
          "height": 51
        },
        "outputId": "ce66e347-a9be-4823-ce6e-4392561412fb"
      },
      "cell_type": "code",
      "source": [
        "print(\"Estimated coefficients:- a0 :\",a0,\"and a1 :\",a1)\n",
        "print(\"Estimated Cost :\",cost) "
      ],
      "execution_count": 21,
      "outputs": [
        {
          "output_type": "stream",
          "text": [
            "Estimated coefficients:- a0 : 0.16066542752675148 and a1 : 1.1331853174657542\n",
            "Estimated Cost : 29.249651389002977\n"
          ],
          "name": "stdout"
        }
      ]
    },
    {
      "metadata": {
        "id": "x5zFl0MrFgHL",
        "colab_type": "code",
        "colab": {
          "base_uri": "https://localhost:8080/",
          "height": 388
        },
        "outputId": "208181f5-8f32-4e6a-834c-098d5ac3a2b8"
      },
      "cell_type": "code",
      "source": [
        "plotRegressionLine(X, y, [a0,a1])"
      ],
      "execution_count": 22,
      "outputs": [
        {
          "output_type": "display_data",
          "data": {
            "image/png": "[encoded data removed]",
            "text/plain": [
              "<matplotlib.figure.Figure at 0x7f8e5feda320>"
            ]
          },
          "metadata": {
            "tags": []
          }
        }
      ]
    },
    {
      "metadata": {
        "id": "Abt8mJLUFgHQ",
        "colab_type": "text"
      },
      "cell_type": "markdown",
      "source": [
        "# Using scikit learn linear model"
      ]
    },
    {
      "metadata": {
        "id": "kQ_OrIzgFgHS",
        "colab_type": "code",
        "colab": {}
      },
      "cell_type": "code",
      "source": [
        "import numpy as np\n",
        "from sklearn.linear_model import LinearRegression"
      ],
      "execution_count": 0,
      "outputs": []
    },
    {
      "metadata": {
        "id": "wkdz6owAFgHW",
        "colab_type": "code",
        "colab": {}
      },
      "cell_type": "code",
      "source": [
        "X = np.array([[1, 1], [1, 2], [2, 2], [2, 3]])\n",
        "# y = x0 + 2*x1 + 3\n",
        "y = np.dot(X, np.array([1, 2])) + 3"
      ],
      "execution_count": 0,
      "outputs": []
    },
    {
      "metadata": {
        "id": "UjH0WZcPFgHe",
        "colab_type": "code",
        "colab": {}
      },
      "cell_type": "code",
      "source": [
        "X"
      ],
      "execution_count": 0,
      "outputs": []
    },
    {
      "metadata": {
        "id": "n0TNdwewFgHs",
        "colab_type": "code",
        "colab": {}
      },
      "cell_type": "code",
      "source": [
        "y"
      ],
      "execution_count": 0,
      "outputs": []
    },
    {
      "metadata": {
        "id": "q3Y-WWXJFgHw",
        "colab_type": "code",
        "colab": {}
      },
      "cell_type": "code",
      "source": [
        "reg = LinearRegression().fit(X, y)"
      ],
      "execution_count": 0,
      "outputs": []
    },
    {
      "metadata": {
        "id": "mo4Z143SFgH3",
        "colab_type": "code",
        "colab": {}
      },
      "cell_type": "code",
      "source": [
        "print(\"Score on training data : \",reg.score(X, y))"
      ],
      "execution_count": 0,
      "outputs": []
    },
    {
      "metadata": {
        "id": "uP287i3GFgH6",
        "colab_type": "code",
        "colab": {}
      },
      "cell_type": "code",
      "source": [
        "print(\"Estimated coefficients : \",reg.coef_)"
      ],
      "execution_count": 0,
      "outputs": []
    },
    {
      "metadata": {
        "id": "ViXXFf8eFgH9",
        "colab_type": "code",
        "colab": {}
      },
      "cell_type": "code",
      "source": [
        "print(\"Estimated Intercept : \",reg.intercept_ )"
      ],
      "execution_count": 0,
      "outputs": []
    },
    {
      "metadata": {
        "id": "SOtmbRYaFgIG",
        "colab_type": "code",
        "colab": {}
      },
      "cell_type": "code",
      "source": [
        "testX = [4,5]"
      ],
      "execution_count": 0,
      "outputs": []
    },
    {
      "metadata": {
        "id": "OM7q8WW0FgIL",
        "colab_type": "code",
        "colab": {}
      },
      "cell_type": "code",
      "source": [
        "print(\"Prediction for X =\",testX,\" ,y =\",reg.predict(np.array([testX]))[0])"
      ],
      "execution_count": 0,
      "outputs": []
    },
    {
      "metadata": {
        "id": "e0itNPB0FgIQ",
        "colab_type": "code",
        "colab": {}
      },
      "cell_type": "code",
      "source": [
        "print(\"Ground Truth for X =\",testX,\" ,y =\",testX[0]+2*testX[1]+3)"
      ],
      "execution_count": 0,
      "outputs": []
    },
    {
      "metadata": {
        "id": "-z0-HbgvFgIV",
        "colab_type": "code",
        "colab": {}
      },
      "cell_type": "code",
      "source": [
        ""
      ],
      "execution_count": 0,
      "outputs": []
    }
  ]
}